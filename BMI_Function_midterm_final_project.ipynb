{
  "nbformat": 4,
  "nbformat_minor": 0,
  "metadata": {
    "colab": {
      "provenance": [],
      "authorship_tag": "ABX9TyNyD9aIzVQWcw9goFXZwhD5",
      "include_colab_link": true
    },
    "kernelspec": {
      "name": "python3",
      "display_name": "Python 3"
    },
    "language_info": {
      "name": "python"
    }
  },
  "cells": [
    {
      "cell_type": "markdown",
      "metadata": {
        "id": "view-in-github",
        "colab_type": "text"
      },
      "source": [
        "<a href=\"https://colab.research.google.com/github/BlueWonderland/BlueWonderland/blob/main/BMI_Function_midterm_final_project.ipynb\" target=\"_parent\"><img src=\"https://colab.research.google.com/assets/colab-badge.svg\" alt=\"Open In Colab\"/></a>"
      ]
    },
    {
      "cell_type": "code",
      "execution_count": 2,
      "metadata": {
        "colab": {
          "base_uri": "https://localhost:8080/"
        },
        "id": "SU1tCd9DBXLY",
        "outputId": "877af52d-228e-459d-fd90-ed5e201e76ef"
      },
      "outputs": [
        {
          "output_type": "stream",
          "name": "stdout",
          "text": [
            "What is your gender? (Male/Female)?: Male\n",
            "You are male.\n",
            "enter your age: 14\n",
            "You will now calculate your BMI.\n",
            "Have and adult help you with this.\n",
            "Imperial or Metric units?: Imperial\n",
            "Enter your weight: 120\n",
            "Enter your height in inches: 66\n",
            "19.366391184573004\n",
            "You are normal! Keep up the good work.\n"
          ]
        }
      ],
      "source": [
        "def BMI_calculator():\n",
        "    import os\n",
        "\n",
        "    def clear_console():\n",
        "        os.system('clear')\n",
        "    def BMI():\n",
        "        units = str(input(\"Imperial or Metric units?: \"))\n",
        "\n",
        "        if units == \"Imperial\" or \"imperial\":\n",
        "            weight_Imperial = int(input(\"Enter your weight: \"))\n",
        "            height_Imperial = int(input(\"Enter your height in inches: \"))\n",
        "            One_Imperial = weight_Imperial / height_Imperial\n",
        "            Two_Imperial = One_Imperial / height_Imperial\n",
        "            your_BMI = Two_Imperial * 703\n",
        "            print(your_BMI)\n",
        "            if your_BMI > 24.9:\n",
        "                print(\"You are overweight. Here is what we recomend:\")\n",
        "                print(\" \")\n",
        "                print(\"Eat smaller meals.\")\n",
        "                print(\"Choose low calorie foods with good vitamins.\")\n",
        "                print(\"Stay away from carbohydrates and fatty foods in excess.\")\n",
        "                print(\"Exercise more vigorously for longer periods.\")\n",
        "                print(\" \")\n",
        "                print(\"If none of these methods work, see a specialist to see if you have diabetes.\")\n",
        "\n",
        "            elif your_BMI < 18.5:\n",
        "                print(\"You are underweight. Here is what we recomend:\")\n",
        "                print(\" \")\n",
        "                print(\"Eat smaller meals more frequently.\")\n",
        "                print(\"Choose high-calorie, protein-dense foods.\")\n",
        "                print(\"Load up on complex carbs.\")\n",
        "                print(\"Include plenty of fiber.\")\n",
        "\n",
        "\n",
        "\n",
        "            else:\n",
        "                print(\"You are normal! Keep up the good work.\")\n",
        "\n",
        "        elif units == \"Metric\" or \"metric\":\n",
        "            weight_Metric = float(input(\"Enter your weight: \"))\n",
        "            height_Metric = float(input(\"Enter your height in meters: \"))\n",
        "            your_BMI = (weight_Metric) / (height_Metric **2)\n",
        "            print(your_BMI)\n",
        "\n",
        "            if your_BMI > 24.9:\n",
        "                print(\"You are overweight. Here is what we recomend:\\n\")\n",
        "                print(\"Eat smaller meals.\")\n",
        "                print(\"Choose low calorie foods with good vitamins.\")\n",
        "                print(\"Stay away from carbohydrates and fatty foods in excess.\")\n",
        "                print(\"Exercise more vigorously for longer periods.\\n\")\n",
        "                print(\"If none of these methods work, see a specialist to see if you have diabetes.\")\n",
        "\n",
        "            elif your_BMI < 18.5:\n",
        "                print(\"You are underweight. Here is what we recomend:\\n\")\n",
        "                print(\"Eat smaller meals more frequently.\")\n",
        "                print(\"Choose high-calorie, protein-dense foods.\")\n",
        "                print(\"Load up on complex carbs.\")\n",
        "                print(\"Include plenty of fiber.\")\n",
        "\n",
        "            else:\n",
        "                print(\"You are normal! Keep up the good work.\")\n",
        "\n",
        "        else:\n",
        "            clear_console()\n",
        "            BMI_rerun()\n",
        "    def BMI_rerun():\n",
        "        BMI()\n",
        "\n",
        "    def gender():\n",
        "        gender = str(input(\"What is your gender? (Male/Female)?: \"))\n",
        "        clear_console()\n",
        "        if gender == \"Male\" or \"male\":\n",
        "            print(\"You are male.\")\n",
        "            age()\n",
        "        elif gender == \"Female\" or \"female\":\n",
        "            print(\"You are female.\")\n",
        "            age()\n",
        "        else:\n",
        "            print(\"Your gender is not compatible. Please repeat\")\n",
        "            rerun_gender()\n",
        "\n",
        "    def rerun_gender():\n",
        "        clear_console()\n",
        "        gender()\n",
        "\n",
        "\n",
        "\n",
        "    def age():\n",
        "        age = int(input(\"enter your age: \"))\n",
        "        if age >= 5 and age <= 20:\n",
        "            print(\"You will now calculate your BMI.\")\n",
        "            print(\"Have and adult help you with this.\")\n",
        "            BMI()\n",
        "        elif age >= 24 and age <= 64:\n",
        "            print(\"You will be caluclating your BMI.\")\n",
        "            print(\"Please seek a medical proffesional before making any major changes.\")\n",
        "            BMI()\n",
        "        elif age >=65 and age <= 135:\n",
        "            print(\"Be very careful when exercising.\")\n",
        "            print(\"We will now calculate your BMI.\")\n",
        "            BMI()\n",
        "        else:\n",
        "            print(\"age not compatible with calculator\")\n",
        "\n",
        "    gender()\n",
        "\n",
        "BMI_calculator()"
      ]
    }
  ]
}